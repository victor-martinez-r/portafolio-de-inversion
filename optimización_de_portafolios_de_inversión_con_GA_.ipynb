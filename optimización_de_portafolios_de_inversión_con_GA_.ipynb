{
  "nbformat": 4,
  "nbformat_minor": 0,
  "metadata": {
    "colab": {
      "provenance": []
    },
    "kernelspec": {
      "name": "python3",
      "display_name": "Python 3"
    },
    "language_info": {
      "name": "python"
    }
  },
  "cells": [
    {
      "cell_type": "code",
      "execution_count": 8,
      "metadata": {
        "colab": {
          "base_uri": "https://localhost:8080/"
        },
        "id": "J3JZ2VELSMM8",
        "outputId": "ff50d1d4-fb88-40fc-98d1-a9ffa8dd7696"
      },
      "outputs": [
        {
          "output_type": "stream",
          "name": "stdout",
          "text": [
            "Requirement already satisfied: geneticalgorithm in /usr/local/lib/python3.10/dist-packages (1.0.2)\n",
            "Requirement already satisfied: func-timeout in /usr/local/lib/python3.10/dist-packages (from geneticalgorithm) (4.3.5)\n",
            "Requirement already satisfied: numpy in /usr/local/lib/python3.10/dist-packages (from geneticalgorithm) (1.23.5)\n"
          ]
        }
      ],
      "source": [
        "pip install --upgrade geneticalgorithm"
      ]
    },
    {
      "cell_type": "code",
      "source": [
        "import yfinance as yf\n",
        "from geneticalgorithm import geneticalgorithm as ga\n",
        "import numpy as np\n",
        "import pandas as pd"
      ],
      "metadata": {
        "id": "4wobYaqfSZTj"
      },
      "execution_count": 9,
      "outputs": []
    },
    {
      "cell_type": "code",
      "source": [
        "# Descargamos datos de cierre de las acciones de nuestro portafolio\n",
        "fecha_inicio = '2018-08-30'\n",
        "fecha_termino = '2023-08-30'\n",
        "data = yf.download(['MSFT', 'GOOGL', 'AAPL', 'NVDA', 'JPM', 'PYPL', 'PG', 'KO', 'AMZN', 'WMT', 'IQQH.DE', 'USO'], start=fecha_inicio, end=fecha_termino)['Close']"
      ],
      "metadata": {
        "colab": {
          "base_uri": "https://localhost:8080/"
        },
        "id": "jtjMXga5Sm8Q",
        "outputId": "895d04b6-54b3-4ef6-a6b3-2ab57b8249c6"
      },
      "execution_count": 10,
      "outputs": [
        {
          "output_type": "stream",
          "name": "stdout",
          "text": [
            "[*********************100%%**********************]  12 of 12 completed\n"
          ]
        }
      ]
    },
    {
      "cell_type": "code",
      "source": [
        "# Calculamos el rendimeinto compuesto diario de las acciones y definimos el monto a invertir\n",
        "rendimientos = data.pct_change().dropna()\n",
        "inversion = 10000000"
      ],
      "metadata": {
        "id": "medZps1QTYs8"
      },
      "execution_count": 11,
      "outputs": []
    },
    {
      "cell_type": "code",
      "source": [
        "# Generamos la función de evaluación (GA)\n",
        "def funcion_evaluacion(porcentajes):\n",
        "  pesos = np.array(porcentajes)\n",
        "  pesos = pesos/pesos.sum() # Garantizamos que la suma de los pesos sumen 100%\n",
        "  monto_inicial = inversion # Asignamos una inversión de $10,000,000\n",
        "  resultados = []\n",
        "  saldo = 0\n",
        "\n",
        "  # Calculamos el importe y número de títulos\n",
        "  precios_iniciales = data.iloc[0].values\n",
        "  importes = [monto_inicial * porcentaje for porcentaje in pesos]\n",
        "  titulos = [int(importe/precio) for importe, precio in zip(importes, precios_iniciales)]\n",
        "\n",
        "  # Calculamos el rendimeinto del portafolio de manera diaria en el periodo elegido\n",
        "  for fecha, fila in data.iterrows():\n",
        "    precios_acciones = fila.values\n",
        "    if saldo == 0:  # Calcula el saldo solo para el primer día del análsis\n",
        "      saldo = sum([importe - titulo * precio for importe, titulo, precio in zip(importes, titulos, precios_acciones)])\n",
        "\n",
        "    precio_portafolio = sum([titulo * precio for titulo, precio in zip(titulos, precios_acciones)]) + saldo\n",
        "    resultados.append({'Precios del portafolio': precio_portafolio})\n",
        "\n",
        "  # Creamos un DataFrame con los resultados\n",
        "  tabla_resultados = pd.DataFrame(resultados)\n",
        "\n",
        "  # Calculamos el rendimiento compuesto diario del portafolio y el rendieminto del portafolio\n",
        "  rendimientos_portafolio = tabla_resultados['Precios del portafolio'].pct_change().dropna()\n",
        "  rendimiento_portafolio = rendimientos_portafolio.mean()\n",
        "\n",
        "  # Calculamos la desviación estandar del portafolio\n",
        "  return -rendimiento_portafolio\n",
        "\n",
        "# Definimos el dominio de los pesos entre 0 y 1 (0%-100%)\n",
        "limites = np.array([[0,1]] * len(data.columns))\n",
        "\n",
        "# Definimos los parámetros del algoritmo genético\n",
        "parametros_algoritmo = {'max_num_iteration': 100,\\\n",
        "                   'population_size':10,\\\n",
        "                   'mutation_probability':0.5,\\\n",
        "                   'elit_ratio': 0.2,\\\n",
        "                   'crossover_probability': 0.5,\\\n",
        "                   'parents_portion': 0.3,\\\n",
        "                   'crossover_type':'uniform',\\\n",
        "                   'max_iteration_without_improv':None}\n",
        "\n",
        "# Generamos el Algoritmo Genético\n",
        "algoritmo = ga(function=funcion_evaluacion, dimension=len(data.columns), variable_type='real', variable_boundaries=limites, algorithm_parameters=parametros_algoritmo)\n",
        "algoritmo.run()\n",
        "\n",
        "# Obtenemos los pesos optimos del portafolio (GA) y calculamos el rendimiento y desviación estandar del portafolio\n",
        "pesos_optimos = algoritmo.output_dict['variable']\n",
        "pesos_optimos = pesos_optimos/pesos_optimos.sum()\n",
        "\n",
        "monto_inicial=inversion\n",
        "resultados = []\n",
        "saldo = 0\n",
        "precios_iniciales = data.iloc[0].values\n",
        "importes = [monto_inicial * porcentaje for porcentaje in pesos_optimos]\n",
        "titulos = [int(importe/precio) for importe, precio in zip(importes, precios_iniciales)]\n",
        "\n",
        "for fecha, fila in data.iterrows():\n",
        "  precios_acciones = fila.values\n",
        "  if saldo == 0:  # Calcula el saldo solo para el primer día del análsis\n",
        "    saldo = sum([importe - titulo * precio for importe, titulo, precio in zip(importes, titulos, precios_acciones)])\n",
        "\n",
        "  precio_portafolio = sum([titulo * precio for titulo, precio in zip(titulos, precios_acciones)]) + saldo\n",
        "  resultados.append({'Precios del portafolio': precio_portafolio})\n",
        "\n",
        "tabla_resultados = pd.DataFrame(resultados)\n",
        "\n",
        "rendimientos_portafolio = tabla_resultados['Precios del portafolio'].pct_change().dropna()\n",
        "rendimiento_portafolio = rendimientos_portafolio.mean()\n",
        "\n",
        "# Calculamos el dinero a invertir en cada acción\n",
        "inversion_por_accion = pesos_optimos * inversion\n",
        "\n",
        "# Imprimimos los resultados\n",
        "for accion, dinero in zip(data.columns, inversion_por_accion):\n",
        "    print(f\"Invertir {dinero:.4f} pesos en {accion}\")\n",
        "desv_est_portafolio = np.sqrt(np.matmul(pesos_optimos, np.matmul(rendimientos.cov(),pesos_optimos.T)))\n",
        "print(f\"Volatilidad del portafolio: {desv_est_portafolio:.4f}\")\n",
        "print(f\"Rendimiento del portafolio: {rendimiento_portafolio:.4f}\")"
      ],
      "metadata": {
        "colab": {
          "base_uri": "https://localhost:8080/",
          "height": 819
        },
        "id": "-BTRKQVrTy6C",
        "outputId": "459ab04e-ab27-499c-a873-bfb564f9b3c9"
      },
      "execution_count": 12,
      "outputs": [
        {
          "output_type": "stream",
          "name": "stdout",
          "text": [
            " The best solution found:\n",
            " [0.07473505 0.15680802 0.27257399 0.38343069 0.01340524 0.17431954\n",
            " 0.24902127 0.90674484 0.15911501 0.31022727 0.02627043 0.01014784]\n",
            "\n",
            " Objective function:\n",
            " -0.0011813470536617405\n"
          ]
        },
        {
          "output_type": "display_data",
          "data": {
            "text/plain": [
              "<Figure size 640x480 with 1 Axes>"
            ],
            "image/png": "[encoded data removed]"
          },
          "metadata": {}
        },
        {
          "output_type": "stream",
          "name": "stdout",
          "text": [
            "Invertir 273074.6607 pesos en AAPL\n",
            "Invertir 572961.3776 pesos en AMZN\n",
            "Invertir 995959.0312 pesos en GOOGL\n",
            "Invertir 1401018.7386 pesos en IQQH.DE\n",
            "Invertir 48981.4410 pesos en JPM\n",
            "Invertir 636946.7552 pesos en KO\n",
            "Invertir 909899.6889 pesos en MSFT\n",
            "Invertir 3313158.0947 pesos en NVDA\n",
            "Invertir 581390.8893 pesos en PG\n",
            "Invertir 1133540.4884 pesos en PYPL\n",
            "Invertir 95989.6101 pesos en USO\n",
            "Invertir 37079.2243 pesos en WMT\n",
            "Volatilidad del portafolio: 0.0192\n",
            "Rendimiento del portafolio: 0.0012\n"
          ]
        }
      ]
    },
    {
      "cell_type": "code",
      "source": [
        "print(pesos_optimos.sum())\n",
        "print(pesos_optimos)\n",
        "pesos_optimos= pd.DataFrame(pesos_optimos)\n",
        "pesos_optimos.to_excel('Pesos.xlsx')\n",
        "print(rendimientos_portafolio)\n",
        "print(rendimiento_portafolio)\n",
        "print(saldo)"
      ],
      "metadata": {
        "colab": {
          "base_uri": "https://localhost:8080/"
        },
        "id": "Hdm7C2aqdsTY",
        "outputId": "777a71b9-6092-47c4-c28d-bb7237cc6d75"
      },
      "execution_count": 13,
      "outputs": [
        {
          "output_type": "stream",
          "name": "stdout",
          "text": [
            "1.0\n",
            "[0.02730747 0.05729614 0.0995959  0.14010187 0.00489814 0.06369468\n",
            " 0.09098997 0.33131581 0.05813909 0.11335405 0.00959896 0.00370792]\n",
            "1       0.002389\n",
            "2       0.000000\n",
            "3       0.002971\n",
            "4      -0.016947\n",
            "5      -0.009431\n",
            "          ...   \n",
            "1286    0.026146\n",
            "1287   -0.004615\n",
            "1288   -0.013681\n",
            "1289    0.013275\n",
            "1290    0.032071\n",
            "Name: Precios del portafolio, Length: 1290, dtype: float64\n",
            "0.0011813470536617405\n",
            "485.037820814352\n"
          ]
        }
      ]
    },
    {
      "cell_type": "code",
      "source": [
        "cov = rendimientos.cov()\n",
        "cov.to_excel('cov.xlsx')"
      ],
      "metadata": {
        "id": "6ctaEIi52IgE"
      },
      "execution_count": 16,
      "outputs": []
    }
  ]
}